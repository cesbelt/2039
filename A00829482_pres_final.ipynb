{
 "cells": [
  {
   "cell_type": "markdown",
   "metadata": {},
   "source": [
    "# Evaluación Final"
   ]
  },
  {
   "cell_type": "markdown",
   "metadata": {},
   "source": [
    "Saulo César Beltrán Romero A0829482\n",
    "\n",
    "Para comenzar se importan las librerías por utilizar:"
   ]
  },
  {
   "cell_type": "code",
   "execution_count": 1,
   "metadata": {},
   "outputs": [],
   "source": [
    "import pandas as pd\n",
    "import numpy as np\n",
    "import matplotlib.pyplot as plt\n",
    "import seaborn as sns\n",
    "import matplotlib as mpl"
   ]
  },
  {
   "cell_type": "markdown",
   "metadata": {},
   "source": [
    "Posteriormente se llama a la base de datos con la cual estaremos trabajando:"
   ]
  },
  {
   "cell_type": "code",
   "execution_count": 2,
   "metadata": {},
   "outputs": [],
   "source": [
    "df = pd.read_csv('datasets/cwurData.csv')"
   ]
  },
  {
   "cell_type": "markdown",
   "metadata": {},
   "source": [
    "# Acomodo y Limpieza"
   ]
  },
  {
   "cell_type": "markdown",
   "metadata": {},
   "source": [
    "Ahora se realizará una limpieza para seleccionar solamente los datos deseados.\n",
    "\n",
    "Dentro de esta limpieza se eliminarán las columnas, ‘alumni_employment’ y ‘broad_impact’, pues se consideró que son de baja importancia para la base de datos.\n",
    "\n",
    "\n",
    "- Pregunta de investigación\n",
    "\n",
    "Dentro del año 2015, ¿Cuáles son las 6 escuelas con un mejor ranking mundial? \n",
    "\n",
    "\n",
    "Para dar respuesta a esta pregunta, primeramente, se eliminaron las observaciones con valores de la columna ‘year’ menores al 2015, permitiendo así, un análisis sobre el año mas cercano dentro de la base de datos.\n",
    "De igual manera, para lograr contestar la pregunta de las 6 escuelas con un mejor ranking, se eliminaron las observaciones que tuvieran un valor menor que 6 en la columna ‘world_rank’."
   ]
  },
  {
   "cell_type": "code",
   "execution_count": 3,
   "metadata": {
    "scrolled": true
   },
   "outputs": [
    {
     "data": {
      "text/html": [
       "<div>\n",
       "<style scoped>\n",
       "    .dataframe tbody tr th:only-of-type {\n",
       "        vertical-align: middle;\n",
       "    }\n",
       "\n",
       "    .dataframe tbody tr th {\n",
       "        vertical-align: top;\n",
       "    }\n",
       "\n",
       "    .dataframe thead th {\n",
       "        text-align: right;\n",
       "    }\n",
       "</style>\n",
       "<table border=\"1\" class=\"dataframe\">\n",
       "  <thead>\n",
       "    <tr style=\"text-align: right;\">\n",
       "      <th></th>\n",
       "      <th>world_rank</th>\n",
       "      <th>institution</th>\n",
       "      <th>country</th>\n",
       "      <th>national_rank</th>\n",
       "      <th>quality_of_education</th>\n",
       "      <th>alumni_employment</th>\n",
       "      <th>quality_of_faculty</th>\n",
       "      <th>publications</th>\n",
       "      <th>influence</th>\n",
       "      <th>citations</th>\n",
       "      <th>broad_impact</th>\n",
       "      <th>patents</th>\n",
       "      <th>score</th>\n",
       "      <th>year</th>\n",
       "    </tr>\n",
       "  </thead>\n",
       "  <tbody>\n",
       "    <tr>\n",
       "      <th>0</th>\n",
       "      <td>1</td>\n",
       "      <td>Harvard University</td>\n",
       "      <td>USA</td>\n",
       "      <td>1</td>\n",
       "      <td>7</td>\n",
       "      <td>9</td>\n",
       "      <td>1</td>\n",
       "      <td>1</td>\n",
       "      <td>1</td>\n",
       "      <td>1</td>\n",
       "      <td>NaN</td>\n",
       "      <td>5</td>\n",
       "      <td>100.00</td>\n",
       "      <td>2012</td>\n",
       "    </tr>\n",
       "    <tr>\n",
       "      <th>1</th>\n",
       "      <td>2</td>\n",
       "      <td>Massachusetts Institute of Technology</td>\n",
       "      <td>USA</td>\n",
       "      <td>2</td>\n",
       "      <td>9</td>\n",
       "      <td>17</td>\n",
       "      <td>3</td>\n",
       "      <td>12</td>\n",
       "      <td>4</td>\n",
       "      <td>4</td>\n",
       "      <td>NaN</td>\n",
       "      <td>1</td>\n",
       "      <td>91.67</td>\n",
       "      <td>2012</td>\n",
       "    </tr>\n",
       "  </tbody>\n",
       "</table>\n",
       "</div>"
      ],
      "text/plain": [
       "   world_rank                            institution country  national_rank  \\\n",
       "0           1                     Harvard University     USA              1   \n",
       "1           2  Massachusetts Institute of Technology     USA              2   \n",
       "\n",
       "   quality_of_education  alumni_employment  quality_of_faculty  publications  \\\n",
       "0                     7                  9                   1             1   \n",
       "1                     9                 17                   3            12   \n",
       "\n",
       "   influence  citations  broad_impact  patents   score  year  \n",
       "0          1          1           NaN        5  100.00  2012  \n",
       "1          4          4           NaN        1   91.67  2012  "
      ]
     },
     "execution_count": 3,
     "metadata": {},
     "output_type": "execute_result"
    }
   ],
   "source": [
    "df.head(2)"
   ]
  },
  {
   "cell_type": "code",
   "execution_count": 4,
   "metadata": {},
   "outputs": [
    {
     "data": {
      "text/html": [
       "<div>\n",
       "<style scoped>\n",
       "    .dataframe tbody tr th:only-of-type {\n",
       "        vertical-align: middle;\n",
       "    }\n",
       "\n",
       "    .dataframe tbody tr th {\n",
       "        vertical-align: top;\n",
       "    }\n",
       "\n",
       "    .dataframe thead th {\n",
       "        text-align: right;\n",
       "    }\n",
       "</style>\n",
       "<table border=\"1\" class=\"dataframe\">\n",
       "  <thead>\n",
       "    <tr style=\"text-align: right;\">\n",
       "      <th></th>\n",
       "      <th>world_rank</th>\n",
       "      <th>institution</th>\n",
       "      <th>country</th>\n",
       "      <th>national_rank</th>\n",
       "      <th>quality_of_education</th>\n",
       "      <th>quality_of_faculty</th>\n",
       "      <th>publications</th>\n",
       "      <th>influence</th>\n",
       "      <th>citations</th>\n",
       "      <th>patents</th>\n",
       "      <th>score</th>\n",
       "      <th>year</th>\n",
       "    </tr>\n",
       "  </thead>\n",
       "  <tbody>\n",
       "    <tr>\n",
       "      <th>1200</th>\n",
       "      <td>1</td>\n",
       "      <td>Harvard University</td>\n",
       "      <td>USA</td>\n",
       "      <td>1</td>\n",
       "      <td>1</td>\n",
       "      <td>1</td>\n",
       "      <td>1</td>\n",
       "      <td>1</td>\n",
       "      <td>1</td>\n",
       "      <td>3</td>\n",
       "      <td>100.00</td>\n",
       "      <td>2015</td>\n",
       "    </tr>\n",
       "    <tr>\n",
       "      <th>1201</th>\n",
       "      <td>2</td>\n",
       "      <td>Stanford University</td>\n",
       "      <td>USA</td>\n",
       "      <td>2</td>\n",
       "      <td>9</td>\n",
       "      <td>4</td>\n",
       "      <td>5</td>\n",
       "      <td>3</td>\n",
       "      <td>3</td>\n",
       "      <td>10</td>\n",
       "      <td>98.66</td>\n",
       "      <td>2015</td>\n",
       "    </tr>\n",
       "    <tr>\n",
       "      <th>1202</th>\n",
       "      <td>3</td>\n",
       "      <td>Massachusetts Institute of Technology</td>\n",
       "      <td>USA</td>\n",
       "      <td>3</td>\n",
       "      <td>3</td>\n",
       "      <td>2</td>\n",
       "      <td>15</td>\n",
       "      <td>2</td>\n",
       "      <td>2</td>\n",
       "      <td>1</td>\n",
       "      <td>97.54</td>\n",
       "      <td>2015</td>\n",
       "    </tr>\n",
       "    <tr>\n",
       "      <th>1203</th>\n",
       "      <td>4</td>\n",
       "      <td>University of Cambridge</td>\n",
       "      <td>United Kingdom</td>\n",
       "      <td>1</td>\n",
       "      <td>2</td>\n",
       "      <td>5</td>\n",
       "      <td>11</td>\n",
       "      <td>6</td>\n",
       "      <td>12</td>\n",
       "      <td>48</td>\n",
       "      <td>96.81</td>\n",
       "      <td>2015</td>\n",
       "    </tr>\n",
       "    <tr>\n",
       "      <th>1204</th>\n",
       "      <td>5</td>\n",
       "      <td>University of Oxford</td>\n",
       "      <td>United Kingdom</td>\n",
       "      <td>2</td>\n",
       "      <td>7</td>\n",
       "      <td>10</td>\n",
       "      <td>7</td>\n",
       "      <td>12</td>\n",
       "      <td>7</td>\n",
       "      <td>15</td>\n",
       "      <td>96.46</td>\n",
       "      <td>2015</td>\n",
       "    </tr>\n",
       "    <tr>\n",
       "      <th>1205</th>\n",
       "      <td>6</td>\n",
       "      <td>Columbia University</td>\n",
       "      <td>USA</td>\n",
       "      <td>4</td>\n",
       "      <td>13</td>\n",
       "      <td>9</td>\n",
       "      <td>13</td>\n",
       "      <td>13</td>\n",
       "      <td>11</td>\n",
       "      <td>4</td>\n",
       "      <td>96.14</td>\n",
       "      <td>2015</td>\n",
       "    </tr>\n",
       "  </tbody>\n",
       "</table>\n",
       "</div>"
      ],
      "text/plain": [
       "      world_rank                            institution         country  \\\n",
       "1200           1                     Harvard University             USA   \n",
       "1201           2                    Stanford University             USA   \n",
       "1202           3  Massachusetts Institute of Technology             USA   \n",
       "1203           4                University of Cambridge  United Kingdom   \n",
       "1204           5                   University of Oxford  United Kingdom   \n",
       "1205           6                    Columbia University             USA   \n",
       "\n",
       "      national_rank  quality_of_education  quality_of_faculty  publications  \\\n",
       "1200              1                     1                   1             1   \n",
       "1201              2                     9                   4             5   \n",
       "1202              3                     3                   2            15   \n",
       "1203              1                     2                   5            11   \n",
       "1204              2                     7                  10             7   \n",
       "1205              4                    13                   9            13   \n",
       "\n",
       "      influence  citations  patents   score  year  \n",
       "1200          1          1        3  100.00  2015  \n",
       "1201          3          3       10   98.66  2015  \n",
       "1202          2          2        1   97.54  2015  \n",
       "1203          6         12       48   96.81  2015  \n",
       "1204         12          7       15   96.46  2015  \n",
       "1205         13         11        4   96.14  2015  "
      ]
     },
     "execution_count": 4,
     "metadata": {},
     "output_type": "execute_result"
    }
   ],
   "source": [
    "#Eliminación de la columna de ‘broad_impact’ y 'alumni_employment’ \n",
    "df.drop(['broad_impact'], axis=1, inplace=True)\n",
    "df.drop(['alumni_employment'], axis=1, inplace=True)\n",
    "\n",
    "#Eliminación de las observaciones que no sean del 2015 y que se encuentren fuera del rank #6\n",
    "df1 = df[(df['year']>= 2015) & (df['world_rank']<= 6)]\n",
    "df1.head(6)"
   ]
  },
  {
   "cell_type": "markdown",
   "metadata": {},
   "source": [
    "Dentro de esta tabla se puede observar las 6 escuelas con mejor ranking mundial en el año 2015.\n",
    "\n",
    "De igual manera, se puede observar que, a diferencia de la tabla de arriba, ya no existen observaciones fuera del año 2015 dentro de las observaciones. Así mismo, se puede observar que las columnas 'broad_impact' y  ‘alumni_employment’ ya no existen dentro de la tabla.\n",
    "- Pregunta de investigación\n",
    "\n",
    "¿Cuál será el nuevo acomodo de la tabla?\n",
    "\n",
    "Se pondrá como índice la columna ‘institution’, permitiendo tener una visión más clara sobre las observaciones según el año en el que fueron tomadas."
   ]
  },
  {
   "cell_type": "code",
   "execution_count": 5,
   "metadata": {},
   "outputs": [],
   "source": [
    "#Etiquetas de las columnas fueron transformadas a strings.\n",
    "df1.columns = list(map(str, df1.columns))"
   ]
  },
  {
   "cell_type": "code",
   "execution_count": 6,
   "metadata": {},
   "outputs": [
    {
     "data": {
      "text/html": [
       "<div>\n",
       "<style scoped>\n",
       "    .dataframe tbody tr th:only-of-type {\n",
       "        vertical-align: middle;\n",
       "    }\n",
       "\n",
       "    .dataframe tbody tr th {\n",
       "        vertical-align: top;\n",
       "    }\n",
       "\n",
       "    .dataframe thead th {\n",
       "        text-align: right;\n",
       "    }\n",
       "</style>\n",
       "<table border=\"1\" class=\"dataframe\">\n",
       "  <thead>\n",
       "    <tr style=\"text-align: right;\">\n",
       "      <th></th>\n",
       "      <th>world_rank</th>\n",
       "      <th>country</th>\n",
       "      <th>national_rank</th>\n",
       "      <th>quality_of_education</th>\n",
       "      <th>quality_of_faculty</th>\n",
       "      <th>publications</th>\n",
       "      <th>influence</th>\n",
       "      <th>citations</th>\n",
       "      <th>patents</th>\n",
       "      <th>score</th>\n",
       "      <th>year</th>\n",
       "    </tr>\n",
       "    <tr>\n",
       "      <th>institution</th>\n",
       "      <th></th>\n",
       "      <th></th>\n",
       "      <th></th>\n",
       "      <th></th>\n",
       "      <th></th>\n",
       "      <th></th>\n",
       "      <th></th>\n",
       "      <th></th>\n",
       "      <th></th>\n",
       "      <th></th>\n",
       "      <th></th>\n",
       "    </tr>\n",
       "  </thead>\n",
       "  <tbody>\n",
       "    <tr>\n",
       "      <th>Harvard University</th>\n",
       "      <td>1</td>\n",
       "      <td>USA</td>\n",
       "      <td>1</td>\n",
       "      <td>1</td>\n",
       "      <td>1</td>\n",
       "      <td>1</td>\n",
       "      <td>1</td>\n",
       "      <td>1</td>\n",
       "      <td>3</td>\n",
       "      <td>100.00</td>\n",
       "      <td>2015</td>\n",
       "    </tr>\n",
       "    <tr>\n",
       "      <th>Stanford University</th>\n",
       "      <td>2</td>\n",
       "      <td>USA</td>\n",
       "      <td>2</td>\n",
       "      <td>9</td>\n",
       "      <td>4</td>\n",
       "      <td>5</td>\n",
       "      <td>3</td>\n",
       "      <td>3</td>\n",
       "      <td>10</td>\n",
       "      <td>98.66</td>\n",
       "      <td>2015</td>\n",
       "    </tr>\n",
       "    <tr>\n",
       "      <th>Massachusetts Institute of Technology</th>\n",
       "      <td>3</td>\n",
       "      <td>USA</td>\n",
       "      <td>3</td>\n",
       "      <td>3</td>\n",
       "      <td>2</td>\n",
       "      <td>15</td>\n",
       "      <td>2</td>\n",
       "      <td>2</td>\n",
       "      <td>1</td>\n",
       "      <td>97.54</td>\n",
       "      <td>2015</td>\n",
       "    </tr>\n",
       "    <tr>\n",
       "      <th>University of Cambridge</th>\n",
       "      <td>4</td>\n",
       "      <td>United Kingdom</td>\n",
       "      <td>1</td>\n",
       "      <td>2</td>\n",
       "      <td>5</td>\n",
       "      <td>11</td>\n",
       "      <td>6</td>\n",
       "      <td>12</td>\n",
       "      <td>48</td>\n",
       "      <td>96.81</td>\n",
       "      <td>2015</td>\n",
       "    </tr>\n",
       "    <tr>\n",
       "      <th>University of Oxford</th>\n",
       "      <td>5</td>\n",
       "      <td>United Kingdom</td>\n",
       "      <td>2</td>\n",
       "      <td>7</td>\n",
       "      <td>10</td>\n",
       "      <td>7</td>\n",
       "      <td>12</td>\n",
       "      <td>7</td>\n",
       "      <td>15</td>\n",
       "      <td>96.46</td>\n",
       "      <td>2015</td>\n",
       "    </tr>\n",
       "    <tr>\n",
       "      <th>Columbia University</th>\n",
       "      <td>6</td>\n",
       "      <td>USA</td>\n",
       "      <td>4</td>\n",
       "      <td>13</td>\n",
       "      <td>9</td>\n",
       "      <td>13</td>\n",
       "      <td>13</td>\n",
       "      <td>11</td>\n",
       "      <td>4</td>\n",
       "      <td>96.14</td>\n",
       "      <td>2015</td>\n",
       "    </tr>\n",
       "  </tbody>\n",
       "</table>\n",
       "</div>"
      ],
      "text/plain": [
       "                                       world_rank         country  \\\n",
       "institution                                                         \n",
       "Harvard University                              1             USA   \n",
       "Stanford University                             2             USA   \n",
       "Massachusetts Institute of Technology           3             USA   \n",
       "University of Cambridge                         4  United Kingdom   \n",
       "University of Oxford                            5  United Kingdom   \n",
       "Columbia University                             6             USA   \n",
       "\n",
       "                                       national_rank  quality_of_education  \\\n",
       "institution                                                                  \n",
       "Harvard University                                 1                     1   \n",
       "Stanford University                                2                     9   \n",
       "Massachusetts Institute of Technology              3                     3   \n",
       "University of Cambridge                            1                     2   \n",
       "University of Oxford                               2                     7   \n",
       "Columbia University                                4                    13   \n",
       "\n",
       "                                       quality_of_faculty  publications  \\\n",
       "institution                                                               \n",
       "Harvard University                                      1             1   \n",
       "Stanford University                                     4             5   \n",
       "Massachusetts Institute of Technology                   2            15   \n",
       "University of Cambridge                                 5            11   \n",
       "University of Oxford                                   10             7   \n",
       "Columbia University                                     9            13   \n",
       "\n",
       "                                       influence  citations  patents   score  \\\n",
       "institution                                                                    \n",
       "Harvard University                             1          1        3  100.00   \n",
       "Stanford University                            3          3       10   98.66   \n",
       "Massachusetts Institute of Technology          2          2        1   97.54   \n",
       "University of Cambridge                        6         12       48   96.81   \n",
       "University of Oxford                          12          7       15   96.46   \n",
       "Columbia University                           13         11        4   96.14   \n",
       "\n",
       "                                       year  \n",
       "institution                                  \n",
       "Harvard University                     2015  \n",
       "Stanford University                    2015  \n",
       "Massachusetts Institute of Technology  2015  \n",
       "University of Cambridge                2015  \n",
       "University of Oxford                   2015  \n",
       "Columbia University                    2015  "
      ]
     },
     "execution_count": 6,
     "metadata": {},
     "output_type": "execute_result"
    }
   ],
   "source": [
    "#Hacer ‘institution’ el indice.\n",
    "df1.set_index('institution', inplace=True)\n",
    "df1.head(6)"
   ]
  },
  {
   "cell_type": "markdown",
   "metadata": {},
   "source": [
    "# Graficas"
   ]
  },
  {
   "cell_type": "markdown",
   "metadata": {},
   "source": [
    "# Pie Chart"
   ]
  },
  {
   "cell_type": "markdown",
   "metadata": {},
   "source": [
    "A primera instancia se agruparon los datos siguiendo a ‘institution’, posteriormente fueron filtrados por los valores más altos a los más bajos de la columna ‘quality_of_education’. Preparándonos así, para graficar estos valores."
   ]
  },
  {
   "cell_type": "code",
   "execution_count": 7,
   "metadata": {},
   "outputs": [
    {
     "data": {
      "text/html": [
       "<div>\n",
       "<style scoped>\n",
       "    .dataframe tbody tr th:only-of-type {\n",
       "        vertical-align: middle;\n",
       "    }\n",
       "\n",
       "    .dataframe tbody tr th {\n",
       "        vertical-align: top;\n",
       "    }\n",
       "\n",
       "    .dataframe thead th {\n",
       "        text-align: right;\n",
       "    }\n",
       "</style>\n",
       "<table border=\"1\" class=\"dataframe\">\n",
       "  <thead>\n",
       "    <tr style=\"text-align: right;\">\n",
       "      <th></th>\n",
       "      <th>world_rank</th>\n",
       "      <th>national_rank</th>\n",
       "      <th>quality_of_education</th>\n",
       "      <th>quality_of_faculty</th>\n",
       "      <th>publications</th>\n",
       "      <th>influence</th>\n",
       "      <th>citations</th>\n",
       "      <th>patents</th>\n",
       "      <th>score</th>\n",
       "      <th>year</th>\n",
       "    </tr>\n",
       "    <tr>\n",
       "      <th>institution</th>\n",
       "      <th></th>\n",
       "      <th></th>\n",
       "      <th></th>\n",
       "      <th></th>\n",
       "      <th></th>\n",
       "      <th></th>\n",
       "      <th></th>\n",
       "      <th></th>\n",
       "      <th></th>\n",
       "      <th></th>\n",
       "    </tr>\n",
       "  </thead>\n",
       "  <tbody>\n",
       "    <tr>\n",
       "      <th>Columbia University</th>\n",
       "      <td>6</td>\n",
       "      <td>4</td>\n",
       "      <td>13</td>\n",
       "      <td>9</td>\n",
       "      <td>13</td>\n",
       "      <td>13</td>\n",
       "      <td>11</td>\n",
       "      <td>4</td>\n",
       "      <td>96.14</td>\n",
       "      <td>2015</td>\n",
       "    </tr>\n",
       "    <tr>\n",
       "      <th>Stanford University</th>\n",
       "      <td>2</td>\n",
       "      <td>2</td>\n",
       "      <td>9</td>\n",
       "      <td>4</td>\n",
       "      <td>5</td>\n",
       "      <td>3</td>\n",
       "      <td>3</td>\n",
       "      <td>10</td>\n",
       "      <td>98.66</td>\n",
       "      <td>2015</td>\n",
       "    </tr>\n",
       "    <tr>\n",
       "      <th>University of Oxford</th>\n",
       "      <td>5</td>\n",
       "      <td>2</td>\n",
       "      <td>7</td>\n",
       "      <td>10</td>\n",
       "      <td>7</td>\n",
       "      <td>12</td>\n",
       "      <td>7</td>\n",
       "      <td>15</td>\n",
       "      <td>96.46</td>\n",
       "      <td>2015</td>\n",
       "    </tr>\n",
       "    <tr>\n",
       "      <th>Massachusetts Institute of Technology</th>\n",
       "      <td>3</td>\n",
       "      <td>3</td>\n",
       "      <td>3</td>\n",
       "      <td>2</td>\n",
       "      <td>15</td>\n",
       "      <td>2</td>\n",
       "      <td>2</td>\n",
       "      <td>1</td>\n",
       "      <td>97.54</td>\n",
       "      <td>2015</td>\n",
       "    </tr>\n",
       "    <tr>\n",
       "      <th>University of Cambridge</th>\n",
       "      <td>4</td>\n",
       "      <td>1</td>\n",
       "      <td>2</td>\n",
       "      <td>5</td>\n",
       "      <td>11</td>\n",
       "      <td>6</td>\n",
       "      <td>12</td>\n",
       "      <td>48</td>\n",
       "      <td>96.81</td>\n",
       "      <td>2015</td>\n",
       "    </tr>\n",
       "    <tr>\n",
       "      <th>Harvard University</th>\n",
       "      <td>1</td>\n",
       "      <td>1</td>\n",
       "      <td>1</td>\n",
       "      <td>1</td>\n",
       "      <td>1</td>\n",
       "      <td>1</td>\n",
       "      <td>1</td>\n",
       "      <td>3</td>\n",
       "      <td>100.00</td>\n",
       "      <td>2015</td>\n",
       "    </tr>\n",
       "  </tbody>\n",
       "</table>\n",
       "</div>"
      ],
      "text/plain": [
       "                                       world_rank  national_rank  \\\n",
       "institution                                                        \n",
       "Columbia University                             6              4   \n",
       "Stanford University                             2              2   \n",
       "University of Oxford                            5              2   \n",
       "Massachusetts Institute of Technology           3              3   \n",
       "University of Cambridge                         4              1   \n",
       "Harvard University                              1              1   \n",
       "\n",
       "                                       quality_of_education  \\\n",
       "institution                                                   \n",
       "Columbia University                                      13   \n",
       "Stanford University                                       9   \n",
       "University of Oxford                                      7   \n",
       "Massachusetts Institute of Technology                     3   \n",
       "University of Cambridge                                   2   \n",
       "Harvard University                                        1   \n",
       "\n",
       "                                       quality_of_faculty  publications  \\\n",
       "institution                                                               \n",
       "Columbia University                                     9            13   \n",
       "Stanford University                                     4             5   \n",
       "University of Oxford                                   10             7   \n",
       "Massachusetts Institute of Technology                   2            15   \n",
       "University of Cambridge                                 5            11   \n",
       "Harvard University                                      1             1   \n",
       "\n",
       "                                       influence  citations  patents   score  \\\n",
       "institution                                                                    \n",
       "Columbia University                           13         11        4   96.14   \n",
       "Stanford University                            3          3       10   98.66   \n",
       "University of Oxford                          12          7       15   96.46   \n",
       "Massachusetts Institute of Technology          2          2        1   97.54   \n",
       "University of Cambridge                        6         12       48   96.81   \n",
       "Harvard University                             1          1        3  100.00   \n",
       "\n",
       "                                       year  \n",
       "institution                                  \n",
       "Columbia University                    2015  \n",
       "Stanford University                    2015  \n",
       "University of Oxford                   2015  \n",
       "Massachusetts Institute of Technology  2015  \n",
       "University of Cambridge                2015  \n",
       "Harvard University                     2015  "
      ]
     },
     "execution_count": 7,
     "metadata": {},
     "output_type": "execute_result"
    }
   ],
   "source": [
    "df_institution = df1.groupby('institution', \n",
    "                           axis=0).sum()\n",
    "df_institution.sort_values(['quality_of_education'], \n",
    "                          ascending=False, \n",
    "                          axis=0, \n",
    "                          inplace=True)\n",
    "df_institution.head(6)"
   ]
  },
  {
   "cell_type": "markdown",
   "metadata": {},
   "source": [
    "- Pregunta de investigación\n",
    "\n",
    "De las 6 escuelas con mejor ranking mundial, ¿Cuál es la que tiene un score mayor?\n",
    "\n",
    "Para contestar esta pregunta, se dio uso a un gráfico de pastel, o pie chart. Dentro de este se puede observar que escuela dentro de las 6 seleccionadas tiene un mejor porcentaje de ‘score’, permitiéndonos conocer de manera visual la respuesta a la pregunta."
   ]
  },
  {
   "cell_type": "code",
   "execution_count": 8,
   "metadata": {},
   "outputs": [
    {
     "data": {
      "image/png": "[encoded data removed]",
      "text/plain": [
       "<Figure size 1080x360 with 1 Axes>"
      ]
     },
     "metadata": {},
     "output_type": "display_data"
    }
   ],
   "source": [
    "# autopct create %, start angle represent starting point\n",
    "colors_list = ['gold', 'yellowgreen', 'lightcoral',\n",
    "               'lightskyblue', 'lightgreen', 'pink']\n",
    "\n",
    "df_institution['score'].plot(kind ='pie',\n",
    "                            figsize =(15,5),\n",
    "                            autopct ='%1.1f%%', \n",
    "                            startangle = 90,     \n",
    "                            shadow = False,\n",
    "                            labels = None,\n",
    "                            pctdistance = 1.1,\n",
    "                            colors = colors_list,\n",
    "                            )\n",
    "\n",
    "plt.title('Porcentaje de scores de las 6 mejores escuelas en 2015')\n",
    "plt.axis('equal') \n",
    "plt.legend(labels = df_institution.index, loc='lower right') \n",
    "\n",
    "plt.show()"
   ]
  },
  {
   "cell_type": "markdown",
   "metadata": {},
   "source": [
    "Como se puede observar dentro de la gráfica obtenida, dentro de las 6 escuelas con mejor ranking, la que tiene el valor de ‘score’ más alto es ‘Harvard University’"
   ]
  },
  {
   "cell_type": "markdown",
   "metadata": {},
   "source": [
    "# Box Plot"
   ]
  },
  {
   "cell_type": "markdown",
   "metadata": {},
   "source": [
    "- Preguntas de investigación\n",
    "\n",
    "Dentro de los primeros 100 rankings del 2015, ¿Cuál es el valor mínimo? ¿Y el valor máximo? \n",
    "\n",
    "¿Dentro de que valores se encuentran dentro del tercer cuartil? \n",
    "\n",
    "¿Se presentan valores atípicos?"
   ]
  },
  {
   "cell_type": "markdown",
   "metadata": {},
   "source": [
    "Debido a que se esta pidiendo trabajar con diferentes datos de la grafica pasada, se tuvo que realizar una nueva variable la cual separara los primeros 100 rankings mundiales del 2015. Esta variable se puede observar en el siguiente cuadro de texto:"
   ]
  },
  {
   "cell_type": "code",
   "execution_count": 9,
   "metadata": {},
   "outputs": [],
   "source": [
    "df2 = df[(df['year']>= 2015) & (df['world_rank']<= 100)]\n",
    "\n",
    "df2_institution = df2.groupby('institution', \n",
    "                           axis=0).sum()"
   ]
  },
  {
   "cell_type": "markdown",
   "metadata": {},
   "source": [
    "Después se realizó el box plot con los datos seleccionados:"
   ]
  },
  {
   "cell_type": "code",
   "execution_count": 10,
   "metadata": {},
   "outputs": [
    {
     "data": {
      "image/png": "[encoded data removed]",
      "text/plain": [
       "<Figure size 576x432 with 1 Axes>"
      ]
     },
     "metadata": {
      "needs_background": "light"
     },
     "output_type": "display_data"
    }
   ],
   "source": [
    "df2_institution['score'].plot(kind = 'box',\n",
    "                            figsize=(8, 6),\n",
    "                            color = 'blue')\n",
    "plt.title('Scores del 2015')\n",
    "plt.ylabel('Scores')\n",
    "\n",
    "plt.show()"
   ]
  },
  {
   "cell_type": "code",
   "execution_count": 11,
   "metadata": {},
   "outputs": [
    {
     "data": {
      "text/plain": [
       "count    100.00000\n",
       "mean      61.13600\n",
       "std       13.37186\n",
       "min       50.60000\n",
       "25%       52.45500\n",
       "50%       55.17500\n",
       "75%       63.89500\n",
       "max      100.00000\n",
       "Name: score, dtype: float64"
      ]
     },
     "execution_count": 11,
     "metadata": {},
     "output_type": "execute_result"
    }
   ],
   "source": [
    "df2_institution['score'].describe()"
   ]
  },
  {
   "cell_type": "markdown",
   "metadata": {},
   "source": [
    "Una vez creado el box plot y conociendo los datos completos, podemos responder a las preguntas.\n",
    "\n",
    "Respuestas:\n",
    "\n",
    "\n",
    "- El valor mínimo encontrado dentro de los datos seleccionados es de 50.6.\n",
    "\n",
    "- El valor máximo encontrado dentro de los datos seleccionados es de 100.\n",
    "\n",
    "- 75% de los scores en el periodo del 2015 se encuentran entre 63.895 o menos.\n",
    "\n",
    "- En la parte superior de la gráfica se pueden observar algunos valores atípicos, estos pertenecen a las universidades con los ‘score’ mas altos.\t\n"
   ]
  },
  {
   "cell_type": "markdown",
   "metadata": {},
   "source": [
    "# Scatter Plot"
   ]
  },
  {
   "cell_type": "markdown",
   "metadata": {},
   "source": [
    "- Pregunta de investigación\n",
    "\n",
    "Realiza un diagrama de dispersión de todos los datos, añade la línea de regresión y realiza tus conclusiones.\n",
    "\n",
    "Debido a que se solicitó utilizar todos los datos, se dará uso a la variable ‘df’ (ya que esta tiene los datos originales)."
   ]
  },
  {
   "cell_type": "code",
   "execution_count": 12,
   "metadata": {},
   "outputs": [
    {
     "data": {
      "image/png": "[encoded data removed]",
      "text/plain": [
       "<Figure size 648x360 with 1 Axes>"
      ]
     },
     "metadata": {
      "needs_background": "light"
     },
     "output_type": "display_data"
    }
   ],
   "source": [
    "#Definición de variables para poder graficarlas.\n",
    "x = df['quality_of_education']\n",
    "y = df['world_rank']\n",
    "fit = np.polyfit(x, y, deg=1)\n",
    "\n",
    "#Grafica de dispersión.\n",
    "df.plot(kind = 'scatter',\n",
    "        x='quality_of_education', \n",
    "        y='world_rank',\n",
    "        figsize =(9,5))\n",
    "\n",
    "\n",
    "plt.title('Grafica de dispersión de quality of education vs world rank')\n",
    "plt.xlabel('Calidad de educación')\n",
    "plt.ylabel('Ranking mundial')\n",
    "\n",
    "#Línea de regresión.\n",
    "plt.plot(x, \n",
    "         fit[0] * x + fit[1], \n",
    "         color='red')\n",
    "\n",
    "plt.show()"
   ]
  },
  {
   "cell_type": "markdown",
   "metadata": {},
   "source": [
    "Una vez hecho el diagrama de dispersión, podemos concluir que:\n",
    "\n",
    "Los valores comienzan a dispersarse a partir del valor 50 aproximadamente, esto se puede notar por la separación de los puntos conforme los valores avanzan. De igual manera, esto se puede notar debido a que los valores no se encuentran cercanos a la línea de regresión conforme los valores avanzan. \n",
    "\n",
    "Conocemos que presenta una tendencia hacia arriba, pues sus valores suben. Se puede notar una conglomeración de datos a la derecha, por lo que podríamos suponer un sesgo en esta. \n"
   ]
  }
 ],
 "metadata": {
  "kernelspec": {
   "display_name": "Python 3",
   "language": "python",
   "name": "python3"
  },
  "language_info": {
   "codemirror_mode": {
    "name": "ipython",
    "version": 3
   },
   "file_extension": ".py",
   "mimetype": "text/x-python",
   "name": "python",
   "nbconvert_exporter": "python",
   "pygments_lexer": "ipython3",
   "version": "3.7.10"
  }
 },
 "nbformat": 4,
 "nbformat_minor": 4
}
