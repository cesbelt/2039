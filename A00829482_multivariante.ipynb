{
 "cells": [
  {
   "cell_type": "markdown",
   "metadata": {},
   "source": [
    "# Actividad 8.1 Ejercicio de modelos de regresión simple"
   ]
  },
  {
   "cell_type": "markdown",
   "metadata": {},
   "source": [
    "Saulo César Beltrán Romero A0829482"
   ]
  },
  {
   "cell_type": "code",
   "execution_count": 1,
   "metadata": {},
   "outputs": [],
   "source": [
    "import matplotlib.pyplot as plt\n",
    "import seaborn as sns\n",
    "import pandas as pd\n",
    "import statsmodels.api as sm\n",
    "import numpy as np\n",
    "from sklearn import linear_model"
   ]
  },
  {
   "cell_type": "code",
   "execution_count": 2,
   "metadata": {},
   "outputs": [
    {
     "data": {
      "text/html": [
       "<div>\n",
       "<style scoped>\n",
       "    .dataframe tbody tr th:only-of-type {\n",
       "        vertical-align: middle;\n",
       "    }\n",
       "\n",
       "    .dataframe tbody tr th {\n",
       "        vertical-align: top;\n",
       "    }\n",
       "\n",
       "    .dataframe thead th {\n",
       "        text-align: right;\n",
       "    }\n",
       "</style>\n",
       "<table border=\"1\" class=\"dataframe\">\n",
       "  <thead>\n",
       "    <tr style=\"text-align: right;\">\n",
       "      <th></th>\n",
       "      <th>folio</th>\n",
       "      <th>intp</th>\n",
       "      <th>entidad</th>\n",
       "      <th>desc_ent</th>\n",
       "      <th>sexo</th>\n",
       "      <th>edad</th>\n",
       "      <th>meses</th>\n",
       "      <th>peso</th>\n",
       "      <th>ropa</th>\n",
       "      <th>talla</th>\n",
       "      <th>...</th>\n",
       "      <th>hpresion</th>\n",
       "      <th>tbrazo</th>\n",
       "      <th>htension</th>\n",
       "      <th>PrimaryLast</th>\n",
       "      <th>code_upm</th>\n",
       "      <th>est_dis</th>\n",
       "      <th>est_urb</th>\n",
       "      <th>est_marg</th>\n",
       "      <th>pondef</th>\n",
       "      <th>est_var</th>\n",
       "    </tr>\n",
       "  </thead>\n",
       "  <tbody>\n",
       "    <tr>\n",
       "      <th>0</th>\n",
       "      <td>210295</td>\n",
       "      <td>2</td>\n",
       "      <td>21</td>\n",
       "      <td>PUEBLA</td>\n",
       "      <td>2</td>\n",
       "      <td>38</td>\n",
       "      <td>8</td>\n",
       "      <td>73.70</td>\n",
       "      <td>2</td>\n",
       "      <td>146.4</td>\n",
       "      <td>...</td>\n",
       "      <td>16:30</td>\n",
       "      <td>2</td>\n",
       "      <td>16:35</td>\n",
       "      <td>1</td>\n",
       "      <td>R2101</td>\n",
       "      <td>5</td>\n",
       "      <td>3</td>\n",
       "      <td>1</td>\n",
       "      <td>3470.002176</td>\n",
       "      <td>215</td>\n",
       "    </tr>\n",
       "    <tr>\n",
       "      <th>1</th>\n",
       "      <td>101655</td>\n",
       "      <td>3</td>\n",
       "      <td>10</td>\n",
       "      <td>DURANGO</td>\n",
       "      <td>2</td>\n",
       "      <td>11</td>\n",
       "      <td>11</td>\n",
       "      <td>35.65</td>\n",
       "      <td>2</td>\n",
       "      <td>145.1</td>\n",
       "      <td>...</td>\n",
       "      <td>15:25</td>\n",
       "      <td>3</td>\n",
       "      <td>15:25</td>\n",
       "      <td>1</td>\n",
       "      <td>M1041</td>\n",
       "      <td>1</td>\n",
       "      <td>1</td>\n",
       "      <td>1</td>\n",
       "      <td>417.946672</td>\n",
       "      <td>101</td>\n",
       "    </tr>\n",
       "  </tbody>\n",
       "</table>\n",
       "<p>2 rows × 26 columns</p>\n",
       "</div>"
      ],
      "text/plain": [
       "    folio  intp  entidad desc_ent  sexo  edad  meses   peso  ropa  talla  ...  \\\n",
       "0  210295     2       21   PUEBLA     2    38      8  73.70     2  146.4  ...   \n",
       "1  101655     3       10  DURANGO     2    11     11  35.65     2  145.1  ...   \n",
       "\n",
       "  hpresion tbrazo  htension  PrimaryLast  code_upm  est_dis est_urb est_marg  \\\n",
       "0    16:30      2     16:35            1     R2101        5       3        1   \n",
       "1    15:25      3     15:25            1     M1041        1       1        1   \n",
       "\n",
       "        pondef  est_var  \n",
       "0  3470.002176      215  \n",
       "1   417.946672      101  \n",
       "\n",
       "[2 rows x 26 columns]"
      ]
     },
     "execution_count": 2,
     "metadata": {},
     "output_type": "execute_result"
    }
   ],
   "source": [
    "df = pd.read_csv('datasets/antropometria-dataset.csv')\n",
    "df.head(2)"
   ]
  },
  {
   "cell_type": "code",
   "execution_count": 3,
   "metadata": {},
   "outputs": [
    {
     "data": {
      "text/plain": [
       "Index(['folio', 'intp', 'entidad', 'desc_ent', 'sexo', 'edad', 'meses', 'peso',\n",
       "       'ropa', 'talla', 'emb', 'temb', 'cintura', 'cadera', 'sistol',\n",
       "       'diastol', 'hpresion', 'tbrazo', 'htension', 'PrimaryLast', 'code_upm',\n",
       "       'est_dis', 'est_urb', 'est_marg', 'pondef', 'est_var'],\n",
       "      dtype='object')"
      ]
     },
     "execution_count": 3,
     "metadata": {},
     "output_type": "execute_result"
    }
   ],
   "source": [
    "df.columns"
   ]
  },
  {
   "cell_type": "code",
   "execution_count": 4,
   "metadata": {},
   "outputs": [
    {
     "data": {
      "text/plain": [
       "['peso', 'cintura']"
      ]
     },
     "execution_count": 4,
     "metadata": {},
     "output_type": "execute_result"
    }
   ],
   "source": [
    "vars = ['peso','cintura']\n",
    "vars"
   ]
  },
  {
   "cell_type": "code",
   "execution_count": 5,
   "metadata": {},
   "outputs": [
    {
     "data": {
      "text/html": [
       "<div>\n",
       "<style scoped>\n",
       "    .dataframe tbody tr th:only-of-type {\n",
       "        vertical-align: middle;\n",
       "    }\n",
       "\n",
       "    .dataframe tbody tr th {\n",
       "        vertical-align: top;\n",
       "    }\n",
       "\n",
       "    .dataframe thead th {\n",
       "        text-align: right;\n",
       "    }\n",
       "</style>\n",
       "<table border=\"1\" class=\"dataframe\">\n",
       "  <thead>\n",
       "    <tr style=\"text-align: right;\">\n",
       "      <th></th>\n",
       "      <th>peso</th>\n",
       "      <th>cintura</th>\n",
       "    </tr>\n",
       "  </thead>\n",
       "  <tbody>\n",
       "    <tr>\n",
       "      <th>0</th>\n",
       "      <td>73.70</td>\n",
       "      <td>98.70</td>\n",
       "    </tr>\n",
       "    <tr>\n",
       "      <th>1</th>\n",
       "      <td>35.65</td>\n",
       "      <td>64.00</td>\n",
       "    </tr>\n",
       "    <tr>\n",
       "      <th>2</th>\n",
       "      <td>54.80</td>\n",
       "      <td>67.60</td>\n",
       "    </tr>\n",
       "    <tr>\n",
       "      <th>3</th>\n",
       "      <td>33.40</td>\n",
       "      <td>60.60</td>\n",
       "    </tr>\n",
       "    <tr>\n",
       "      <th>4</th>\n",
       "      <td>97.95</td>\n",
       "      <td>113.00</td>\n",
       "    </tr>\n",
       "    <tr>\n",
       "      <th>...</th>\n",
       "      <td>...</td>\n",
       "      <td>...</td>\n",
       "    </tr>\n",
       "    <tr>\n",
       "      <th>18635</th>\n",
       "      <td>75.80</td>\n",
       "      <td>93.00</td>\n",
       "    </tr>\n",
       "    <tr>\n",
       "      <th>18636</th>\n",
       "      <td>69.40</td>\n",
       "      <td>103.05</td>\n",
       "    </tr>\n",
       "    <tr>\n",
       "      <th>18637</th>\n",
       "      <td>46.75</td>\n",
       "      <td>71.35</td>\n",
       "    </tr>\n",
       "    <tr>\n",
       "      <th>18638</th>\n",
       "      <td>59.05</td>\n",
       "      <td>99.95</td>\n",
       "    </tr>\n",
       "    <tr>\n",
       "      <th>18639</th>\n",
       "      <td>80.00</td>\n",
       "      <td>108.15</td>\n",
       "    </tr>\n",
       "  </tbody>\n",
       "</table>\n",
       "<p>18032 rows × 2 columns</p>\n",
       "</div>"
      ],
      "text/plain": [
       "        peso  cintura\n",
       "0      73.70    98.70\n",
       "1      35.65    64.00\n",
       "2      54.80    67.60\n",
       "3      33.40    60.60\n",
       "4      97.95   113.00\n",
       "...      ...      ...\n",
       "18635  75.80    93.00\n",
       "18636  69.40   103.05\n",
       "18637  46.75    71.35\n",
       "18638  59.05    99.95\n",
       "18639  80.00   108.15\n",
       "\n",
       "[18032 rows x 2 columns]"
      ]
     },
     "execution_count": 5,
     "metadata": {},
     "output_type": "execute_result"
    }
   ],
   "source": [
    "df = df[vars].dropna()\n",
    "df"
   ]
  },
  {
   "cell_type": "markdown",
   "metadata": {},
   "source": [
    "Una vez conociendo los datos y al haber acomodado los valores como nos interesan, podemos realizar el análisis de regresión lineal simple utilizando la variable de ‘peso’ como la variable independiente o ‘y’, y la variable ‘cintura’ como la dependiente o ‘x’. Dentro de la fórmula de regresión lineal, esto se observa así:\n",
    "\n",
    "peso = b0 + b1 * cintura\n",
    "\n",
    "A continuación, se mostrará el código y la tabla obtenida al realizar el análisis de regresión lineal simple."
   ]
  },
  {
   "cell_type": "code",
   "execution_count": 6,
   "metadata": {},
   "outputs": [
    {
     "data": {
      "text/html": [
       "<table class=\"simpletable\">\n",
       "<caption>OLS Regression Results</caption>\n",
       "<tr>\n",
       "  <th>Dep. Variable:</th>          <td>peso</td>       <th>  R-squared:         </th> <td>   0.627</td> \n",
       "</tr>\n",
       "<tr>\n",
       "  <th>Model:</th>                   <td>OLS</td>       <th>  Adj. R-squared:    </th> <td>   0.627</td> \n",
       "</tr>\n",
       "<tr>\n",
       "  <th>Method:</th>             <td>Least Squares</td>  <th>  F-statistic:       </th> <td>3.028e+04</td>\n",
       "</tr>\n",
       "<tr>\n",
       "  <th>Date:</th>             <td>Tue, 07 Sep 2021</td> <th>  Prob (F-statistic):</th>  <td>  0.00</td>  \n",
       "</tr>\n",
       "<tr>\n",
       "  <th>Time:</th>                 <td>05:54:12</td>     <th>  Log-Likelihood:    </th> <td> -68622.</td> \n",
       "</tr>\n",
       "<tr>\n",
       "  <th>No. Observations:</th>      <td> 18032</td>      <th>  AIC:               </th> <td>1.372e+05</td>\n",
       "</tr>\n",
       "<tr>\n",
       "  <th>Df Residuals:</th>          <td> 18030</td>      <th>  BIC:               </th> <td>1.373e+05</td>\n",
       "</tr>\n",
       "<tr>\n",
       "  <th>Df Model:</th>              <td>     1</td>      <th>                     </th>     <td> </td>    \n",
       "</tr>\n",
       "<tr>\n",
       "  <th>Covariance Type:</th>      <td>nonrobust</td>    <th>                     </th>     <td> </td>    \n",
       "</tr>\n",
       "</table>\n",
       "<table class=\"simpletable\">\n",
       "<tr>\n",
       "      <td></td>         <th>coef</th>     <th>std err</th>      <th>t</th>      <th>P>|t|</th>  <th>[0.025</th>    <th>0.975]</th>  \n",
       "</tr>\n",
       "<tr>\n",
       "  <th>Intercept</th> <td>   -8.3137</td> <td>    0.427</td> <td>  -19.458</td> <td> 0.000</td> <td>   -9.151</td> <td>   -7.476</td>\n",
       "</tr>\n",
       "<tr>\n",
       "  <th>cintura</th>   <td>    0.8316</td> <td>    0.005</td> <td>  173.999</td> <td> 0.000</td> <td>    0.822</td> <td>    0.841</td>\n",
       "</tr>\n",
       "</table>\n",
       "<table class=\"simpletable\">\n",
       "<tr>\n",
       "  <th>Omnibus:</th>       <td>12737.948</td> <th>  Durbin-Watson:     </th>  <td>   1.884</td>  \n",
       "</tr>\n",
       "<tr>\n",
       "  <th>Prob(Omnibus):</th>  <td> 0.000</td>   <th>  Jarque-Bera (JB):  </th> <td>1022852.813</td>\n",
       "</tr>\n",
       "<tr>\n",
       "  <th>Skew:</th>           <td>-2.683</td>   <th>  Prob(JB):          </th>  <td>    0.00</td>  \n",
       "</tr>\n",
       "<tr>\n",
       "  <th>Kurtosis:</th>       <td>39.505</td>   <th>  Cond. No.          </th>  <td>    472.</td>  \n",
       "</tr>\n",
       "</table><br/><br/>Warnings:<br/>[1] Standard Errors assume that the covariance matrix of the errors is correctly specified."
      ],
      "text/plain": [
       "<class 'statsmodels.iolib.summary.Summary'>\n",
       "\"\"\"\n",
       "                            OLS Regression Results                            \n",
       "==============================================================================\n",
       "Dep. Variable:                   peso   R-squared:                       0.627\n",
       "Model:                            OLS   Adj. R-squared:                  0.627\n",
       "Method:                 Least Squares   F-statistic:                 3.028e+04\n",
       "Date:                Tue, 07 Sep 2021   Prob (F-statistic):               0.00\n",
       "Time:                        05:54:12   Log-Likelihood:                -68622.\n",
       "No. Observations:               18032   AIC:                         1.372e+05\n",
       "Df Residuals:                   18030   BIC:                         1.373e+05\n",
       "Df Model:                           1                                         \n",
       "Covariance Type:            nonrobust                                         \n",
       "==============================================================================\n",
       "                 coef    std err          t      P>|t|      [0.025      0.975]\n",
       "------------------------------------------------------------------------------\n",
       "Intercept     -8.3137      0.427    -19.458      0.000      -9.151      -7.476\n",
       "cintura        0.8316      0.005    173.999      0.000       0.822       0.841\n",
       "==============================================================================\n",
       "Omnibus:                    12737.948   Durbin-Watson:                   1.884\n",
       "Prob(Omnibus):                  0.000   Jarque-Bera (JB):          1022852.813\n",
       "Skew:                          -2.683   Prob(JB):                         0.00\n",
       "Kurtosis:                      39.505   Cond. No.                         472.\n",
       "==============================================================================\n",
       "\n",
       "Warnings:\n",
       "[1] Standard Errors assume that the covariance matrix of the errors is correctly specified.\n",
       "\"\"\""
      ]
     },
     "execution_count": 6,
     "metadata": {},
     "output_type": "execute_result"
    }
   ],
   "source": [
    "#Código para análisis de regresión lineal simple\n",
    "\n",
    "import statsmodels.api as sm\n",
    "model = sm.OLS.from_formula('peso~cintura', #formla reg, peso = b0 + b1 * cintura\n",
    "                           data = df)\n",
    "result = model.fit()\n",
    "result.summary()"
   ]
  },
  {
   "cell_type": "markdown",
   "metadata": {},
   "source": [
    "Dentro de los valores mostrados en la tabla anterior se incluyen los valores de la pendiente, la ordenada al origen (B0 o intercepto) y el coeficiente de regresión parcial (B1).\n",
    "\n",
    "Posteriormente se realizó una gráfica de dispersión de los valores originales vs. residuales:"
   ]
  },
  {
   "cell_type": "code",
   "execution_count": 7,
   "metadata": {},
   "outputs": [
    {
     "data": {
      "image/png": "[encoded data removed]",
      "text/plain": [
       "<Figure size 432x288 with 1 Axes>"
      ]
     },
     "metadata": {
      "needs_background": "light"
     },
     "output_type": "display_data"
    }
   ],
   "source": [
    "#Código para grafica de dispersión\n",
    "\n",
    "pp = sns.scatterplot(x = result.fittedvalues,\n",
    "                    y = result.resid)\n",
    "pp.set_xlabel('Fitted values',\n",
    "             size = 10)\n",
    "pp.set_ylabel('Residuales',\n",
    "             size = 10)\n",
    "pp.set_title('Scatter plot of Fitted values vs Residuales',\n",
    "            size = 15)\n",
    "plt.show()"
   ]
  },
  {
   "cell_type": "markdown",
   "metadata": {},
   "source": [
    "Después se realizaron las siguientes líneas de código para poder graficar una línea de regresión sobre los valores de las variables peso y cintura."
   ]
  },
  {
   "cell_type": "code",
   "execution_count": 8,
   "metadata": {},
   "outputs": [
    {
     "data": {
      "text/plain": [
       "LinearRegression()"
      ]
     },
     "execution_count": 8,
     "metadata": {},
     "output_type": "execute_result"
    }
   ],
   "source": [
    "X = pd.DataFrame(df['cintura'])\n",
    "Y = pd.DataFrame(df['peso'])\n",
    "\n",
    "lm = linear_model.LinearRegression()\n",
    "model_lm = lm.fit(X, Y)\n",
    "model_lm"
   ]
  },
  {
   "cell_type": "code",
   "execution_count": 9,
   "metadata": {
    "scrolled": true
   },
   "outputs": [
    {
     "data": {
      "image/png": "[encoded data removed]",
      "text/plain": [
       "<Figure size 432x288 with 1 Axes>"
      ]
     },
     "metadata": {
      "needs_background": "light"
     },
     "output_type": "display_data"
    }
   ],
   "source": [
    "#Diagrama de dispersión\n",
    "plt.scatter(x = X,\n",
    "            y = Y,\n",
    "           c = 'g')\n",
    "plt.xlabel('Cintura',\n",
    "          size = 14)\n",
    "plt.ylabel('Peso',\n",
    "          size = 14)\n",
    "plt.title('Diagrama de Dispersión con Recta de Modelo de Regresión',\n",
    "         size = 15)\n",
    "#Linea de regresion\n",
    "plt.plot(X, \n",
    "         model_lm.predict(X), \n",
    "         linewidth=2, \n",
    "        color = 'y')\n",
    "\n",
    "plt.show()"
   ]
  },
  {
   "cell_type": "markdown",
   "metadata": {},
   "source": [
    "Como se puede observar en el gráfico obtenido, primeramente, se indicó las variables en los ejes por graficar, ‘cintura’ para ‘x’ y ‘peso’ para ‘y’, posteriormente se indico la línea de regresión dando uso a algunas funciones de librerías. "
   ]
  },
  {
   "cell_type": "code",
   "execution_count": 10,
   "metadata": {
    "scrolled": true
   },
   "outputs": [
    {
     "data": {
      "text/plain": [
       "0        -0.062068\n",
       "1        -9.256672\n",
       "2         6.899685\n",
       "3        -8.679342\n",
       "4        12.296515\n",
       "           ...    \n",
       "18635     6.777867\n",
       "18636    -7.979387\n",
       "18637    -4.268694\n",
       "18638   -15.751528\n",
       "18639    -1.620382\n",
       "Length: 18032, dtype: float64"
      ]
     },
     "execution_count": 10,
     "metadata": {},
     "output_type": "execute_result"
    }
   ],
   "source": [
    "result.resid"
   ]
  },
  {
   "cell_type": "markdown",
   "metadata": {},
   "source": [
    "Por último, para calcular los valores de los residuos se dio uso a la función ‘result.resid’, la cual muestra los valores de los residuos obtenidos por cada renglón, debido a que estos son mas de 18000, solamente se muestra una pequeña cantidad de estos datos."
   ]
  },
  {
   "cell_type": "markdown",
   "metadata": {},
   "source": [
    "Para la realización de los siguientes puntos, se pide la separación de los datos según el sexo al que correspondan. Para lograr esto, se dio uno a funciones de Tablas dinámicas o Pivote Tables. Debido a que dentro de la base de datos no se expresa explícitamente que sexo es cual, se tomó la libertad de considerar los valores de 2 como mujeres y los de 1 como hombres. La tabla resultante es:"
   ]
  },
  {
   "cell_type": "code",
   "execution_count": null,
   "metadata": {},
   "outputs": [],
   "source": []
  }
 ],
 "metadata": {
  "kernelspec": {
   "display_name": "Python 3",
   "language": "python",
   "name": "python3"
  },
  "language_info": {
   "codemirror_mode": {
    "name": "ipython",
    "version": 3
   },
   "file_extension": ".py",
   "mimetype": "text/x-python",
   "name": "python",
   "nbconvert_exporter": "python",
   "pygments_lexer": "ipython3",
   "version": "3.7.10"
  }
 },
 "nbformat": 4,
 "nbformat_minor": 4
}
